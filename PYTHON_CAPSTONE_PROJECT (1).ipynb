{
  "nbformat": 4,
  "nbformat_minor": 0,
  "metadata": {
    "colab": {
      "provenance": []
    },
    "kernelspec": {
      "name": "python3",
      "display_name": "Python 3"
    },
    "language_info": {
      "name": "python"
    }
  },
  "cells": [
    {
      "cell_type": "markdown",
      "source": [
        "#PYTHON CAPSTONE PROJECT"
      ],
      "metadata": {
        "id": "ZlIhrSp4oXR0"
      }
    },
    {
      "cell_type": "markdown",
      "source": [
        "#1.Load the Dataset"
      ],
      "metadata": {
        "id": "V_x3yzO9rUYR"
      }
    },
    {
      "cell_type": "code",
      "source": [
        "import pandas as pd\n",
        "import numpy as np\n",
        "import matplotlib.pyplot as plt\n",
        "import seaborn as sns\n",
        "df = pd.read_csv('https://raw.githubusercontent.com/ArchanaInsights/Datasets/main/marketing_campaign.csv')\n",
        "df.head()"
      ],
      "metadata": {
        "id": "eBosdEL9o238",
        "colab": {
          "base_uri": "https://localhost:8080/",
          "height": 400
        },
        "outputId": "ccebda73-d7d1-4b1c-cc95-3129ffe79c0c"
      },
      "execution_count": null,
      "outputs": [
        {
          "output_type": "execute_result",
          "data": {
            "text/plain": [
              "   Campaign_ID              Company Campaign_Type Target_Audience Duration  \\\n",
              "0            1             TechCorp         Email     Women 25-34  30 days   \n",
              "1            2  Innovate Industries    Influencer     Women 35-44  45 days   \n",
              "2            3       NexGen Systems  Social Media     Women 25-34  45 days   \n",
              "3            4  Innovate Industries         Email     Women 25-34  45 days   \n",
              "4            5  Data Tech Solutions    Influencer       Men 25-34  30 days   \n",
              "\n",
              "  Channel_Used  Conversion_Rate  Acquisition_Cost     ROI          Location  \\\n",
              "0     Facebook         5.294194              9344   62.94           Houston   \n",
              "1   Google Ads         3.326375              8783   10.67  Washington, D.C.   \n",
              "2    Instagram         4.056375              9111   73.20             Miami   \n",
              "3    Instagram         4.496375              7420   60.92           Seattle   \n",
              "4   Google Ads         4.405930              2146  138.82           Chicago   \n",
              "\n",
              "  Language  Clicks  Impressions  Engagement_Score  Customer_Segment  \\\n",
              "0  English    3045        67836                 5  Tech Enthusiasts   \n",
              "1   German    1944        66361                 4           Foodies   \n",
              "2  Spanish    3156        86240                 8      Fashionistas   \n",
              "3  Spanish    2388        58251                 6           Foodies   \n",
              "4  English    1025        34407                 5  Tech Enthusiasts   \n",
              "\n",
              "         Date  \n",
              "0  01-01-2023  \n",
              "1  01-01-2023  \n",
              "2  01-01-2023  \n",
              "3  01-01-2023  \n",
              "4  01-01-2023  "
            ],
            "text/html": [
              "\n",
              "  <div id=\"df-9f700ec1-140b-4125-838d-80356ef1fbac\" class=\"colab-df-container\">\n",
              "    <div>\n",
              "<style scoped>\n",
              "    .dataframe tbody tr th:only-of-type {\n",
              "        vertical-align: middle;\n",
              "    }\n",
              "\n",
              "    .dataframe tbody tr th {\n",
              "        vertical-align: top;\n",
              "    }\n",
              "\n",
              "    .dataframe thead th {\n",
              "        text-align: right;\n",
              "    }\n",
              "</style>\n",
              "<table border=\"1\" class=\"dataframe\">\n",
              "  <thead>\n",
              "    <tr style=\"text-align: right;\">\n",
              "      <th></th>\n",
              "      <th>Campaign_ID</th>\n",
              "      <th>Company</th>\n",
              "      <th>Campaign_Type</th>\n",
              "      <th>Target_Audience</th>\n",
              "      <th>Duration</th>\n",
              "      <th>Channel_Used</th>\n",
              "      <th>Conversion_Rate</th>\n",
              "      <th>Acquisition_Cost</th>\n",
              "      <th>ROI</th>\n",
              "      <th>Location</th>\n",
              "      <th>Language</th>\n",
              "      <th>Clicks</th>\n",
              "      <th>Impressions</th>\n",
              "      <th>Engagement_Score</th>\n",
              "      <th>Customer_Segment</th>\n",
              "      <th>Date</th>\n",
              "    </tr>\n",
              "  </thead>\n",
              "  <tbody>\n",
              "    <tr>\n",
              "      <th>0</th>\n",
              "      <td>1</td>\n",
              "      <td>TechCorp</td>\n",
              "      <td>Email</td>\n",
              "      <td>Women 25-34</td>\n",
              "      <td>30 days</td>\n",
              "      <td>Facebook</td>\n",
              "      <td>5.294194</td>\n",
              "      <td>9344</td>\n",
              "      <td>62.94</td>\n",
              "      <td>Houston</td>\n",
              "      <td>English</td>\n",
              "      <td>3045</td>\n",
              "      <td>67836</td>\n",
              "      <td>5</td>\n",
              "      <td>Tech Enthusiasts</td>\n",
              "      <td>01-01-2023</td>\n",
              "    </tr>\n",
              "    <tr>\n",
              "      <th>1</th>\n",
              "      <td>2</td>\n",
              "      <td>Innovate Industries</td>\n",
              "      <td>Influencer</td>\n",
              "      <td>Women 35-44</td>\n",
              "      <td>45 days</td>\n",
              "      <td>Google Ads</td>\n",
              "      <td>3.326375</td>\n",
              "      <td>8783</td>\n",
              "      <td>10.67</td>\n",
              "      <td>Washington, D.C.</td>\n",
              "      <td>German</td>\n",
              "      <td>1944</td>\n",
              "      <td>66361</td>\n",
              "      <td>4</td>\n",
              "      <td>Foodies</td>\n",
              "      <td>01-01-2023</td>\n",
              "    </tr>\n",
              "    <tr>\n",
              "      <th>2</th>\n",
              "      <td>3</td>\n",
              "      <td>NexGen Systems</td>\n",
              "      <td>Social Media</td>\n",
              "      <td>Women 25-34</td>\n",
              "      <td>45 days</td>\n",
              "      <td>Instagram</td>\n",
              "      <td>4.056375</td>\n",
              "      <td>9111</td>\n",
              "      <td>73.20</td>\n",
              "      <td>Miami</td>\n",
              "      <td>Spanish</td>\n",
              "      <td>3156</td>\n",
              "      <td>86240</td>\n",
              "      <td>8</td>\n",
              "      <td>Fashionistas</td>\n",
              "      <td>01-01-2023</td>\n",
              "    </tr>\n",
              "    <tr>\n",
              "      <th>3</th>\n",
              "      <td>4</td>\n",
              "      <td>Innovate Industries</td>\n",
              "      <td>Email</td>\n",
              "      <td>Women 25-34</td>\n",
              "      <td>45 days</td>\n",
              "      <td>Instagram</td>\n",
              "      <td>4.496375</td>\n",
              "      <td>7420</td>\n",
              "      <td>60.92</td>\n",
              "      <td>Seattle</td>\n",
              "      <td>Spanish</td>\n",
              "      <td>2388</td>\n",
              "      <td>58251</td>\n",
              "      <td>6</td>\n",
              "      <td>Foodies</td>\n",
              "      <td>01-01-2023</td>\n",
              "    </tr>\n",
              "    <tr>\n",
              "      <th>4</th>\n",
              "      <td>5</td>\n",
              "      <td>Data Tech Solutions</td>\n",
              "      <td>Influencer</td>\n",
              "      <td>Men 25-34</td>\n",
              "      <td>30 days</td>\n",
              "      <td>Google Ads</td>\n",
              "      <td>4.405930</td>\n",
              "      <td>2146</td>\n",
              "      <td>138.82</td>\n",
              "      <td>Chicago</td>\n",
              "      <td>English</td>\n",
              "      <td>1025</td>\n",
              "      <td>34407</td>\n",
              "      <td>5</td>\n",
              "      <td>Tech Enthusiasts</td>\n",
              "      <td>01-01-2023</td>\n",
              "    </tr>\n",
              "  </tbody>\n",
              "</table>\n",
              "</div>\n",
              "    <div class=\"colab-df-buttons\">\n",
              "\n",
              "  <div class=\"colab-df-container\">\n",
              "    <button class=\"colab-df-convert\" onclick=\"convertToInteractive('df-9f700ec1-140b-4125-838d-80356ef1fbac')\"\n",
              "            title=\"Convert this dataframe to an interactive table.\"\n",
              "            style=\"display:none;\">\n",
              "\n",
              "  <svg xmlns=\"http://www.w3.org/2000/svg\" height=\"24px\" viewBox=\"0 -960 960 960\">\n",
              "    <path d=\"M120-120v-720h720v720H120Zm60-500h600v-160H180v160Zm220 220h160v-160H400v160Zm0 220h160v-160H400v160ZM180-400h160v-160H180v160Zm440 0h160v-160H620v160ZM180-180h160v-160H180v160Zm440 0h160v-160H620v160Z\"/>\n",
              "  </svg>\n",
              "    </button>\n",
              "\n",
              "  <style>\n",
              "    .colab-df-container {\n",
              "      display:flex;\n",
              "      gap: 12px;\n",
              "    }\n",
              "\n",
              "    .colab-df-convert {\n",
              "      background-color: #E8F0FE;\n",
              "      border: none;\n",
              "      border-radius: 50%;\n",
              "      cursor: pointer;\n",
              "      display: none;\n",
              "      fill: #1967D2;\n",
              "      height: 32px;\n",
              "      padding: 0 0 0 0;\n",
              "      width: 32px;\n",
              "    }\n",
              "\n",
              "    .colab-df-convert:hover {\n",
              "      background-color: #E2EBFA;\n",
              "      box-shadow: 0px 1px 2px rgba(60, 64, 67, 0.3), 0px 1px 3px 1px rgba(60, 64, 67, 0.15);\n",
              "      fill: #174EA6;\n",
              "    }\n",
              "\n",
              "    .colab-df-buttons div {\n",
              "      margin-bottom: 4px;\n",
              "    }\n",
              "\n",
              "    [theme=dark] .colab-df-convert {\n",
              "      background-color: #3B4455;\n",
              "      fill: #D2E3FC;\n",
              "    }\n",
              "\n",
              "    [theme=dark] .colab-df-convert:hover {\n",
              "      background-color: #434B5C;\n",
              "      box-shadow: 0px 1px 3px 1px rgba(0, 0, 0, 0.15);\n",
              "      filter: drop-shadow(0px 1px 2px rgba(0, 0, 0, 0.3));\n",
              "      fill: #FFFFFF;\n",
              "    }\n",
              "  </style>\n",
              "\n",
              "    <script>\n",
              "      const buttonEl =\n",
              "        document.querySelector('#df-9f700ec1-140b-4125-838d-80356ef1fbac button.colab-df-convert');\n",
              "      buttonEl.style.display =\n",
              "        google.colab.kernel.accessAllowed ? 'block' : 'none';\n",
              "\n",
              "      async function convertToInteractive(key) {\n",
              "        const element = document.querySelector('#df-9f700ec1-140b-4125-838d-80356ef1fbac');\n",
              "        const dataTable =\n",
              "          await google.colab.kernel.invokeFunction('convertToInteractive',\n",
              "                                                    [key], {});\n",
              "        if (!dataTable) return;\n",
              "\n",
              "        const docLinkHtml = 'Like what you see? Visit the ' +\n",
              "          '<a target=\"_blank\" href=https://colab.research.google.com/notebooks/data_table.ipynb>data table notebook</a>'\n",
              "          + ' to learn more about interactive tables.';\n",
              "        element.innerHTML = '';\n",
              "        dataTable['output_type'] = 'display_data';\n",
              "        await google.colab.output.renderOutput(dataTable, element);\n",
              "        const docLink = document.createElement('div');\n",
              "        docLink.innerHTML = docLinkHtml;\n",
              "        element.appendChild(docLink);\n",
              "      }\n",
              "    </script>\n",
              "  </div>\n",
              "\n",
              "\n",
              "<div id=\"df-77d3a722-5cec-4529-af30-4d2e405ff608\">\n",
              "  <button class=\"colab-df-quickchart\" onclick=\"quickchart('df-77d3a722-5cec-4529-af30-4d2e405ff608')\"\n",
              "            title=\"Suggest charts\"\n",
              "            style=\"display:none;\">\n",
              "\n",
              "<svg xmlns=\"http://www.w3.org/2000/svg\" height=\"24px\"viewBox=\"0 0 24 24\"\n",
              "     width=\"24px\">\n",
              "    <g>\n",
              "        <path d=\"M19 3H5c-1.1 0-2 .9-2 2v14c0 1.1.9 2 2 2h14c1.1 0 2-.9 2-2V5c0-1.1-.9-2-2-2zM9 17H7v-7h2v7zm4 0h-2V7h2v10zm4 0h-2v-4h2v4z\"/>\n",
              "    </g>\n",
              "</svg>\n",
              "  </button>\n",
              "\n",
              "<style>\n",
              "  .colab-df-quickchart {\n",
              "      --bg-color: #E8F0FE;\n",
              "      --fill-color: #1967D2;\n",
              "      --hover-bg-color: #E2EBFA;\n",
              "      --hover-fill-color: #174EA6;\n",
              "      --disabled-fill-color: #AAA;\n",
              "      --disabled-bg-color: #DDD;\n",
              "  }\n",
              "\n",
              "  [theme=dark] .colab-df-quickchart {\n",
              "      --bg-color: #3B4455;\n",
              "      --fill-color: #D2E3FC;\n",
              "      --hover-bg-color: #434B5C;\n",
              "      --hover-fill-color: #FFFFFF;\n",
              "      --disabled-bg-color: #3B4455;\n",
              "      --disabled-fill-color: #666;\n",
              "  }\n",
              "\n",
              "  .colab-df-quickchart {\n",
              "    background-color: var(--bg-color);\n",
              "    border: none;\n",
              "    border-radius: 50%;\n",
              "    cursor: pointer;\n",
              "    display: none;\n",
              "    fill: var(--fill-color);\n",
              "    height: 32px;\n",
              "    padding: 0;\n",
              "    width: 32px;\n",
              "  }\n",
              "\n",
              "  .colab-df-quickchart:hover {\n",
              "    background-color: var(--hover-bg-color);\n",
              "    box-shadow: 0 1px 2px rgba(60, 64, 67, 0.3), 0 1px 3px 1px rgba(60, 64, 67, 0.15);\n",
              "    fill: var(--button-hover-fill-color);\n",
              "  }\n",
              "\n",
              "  .colab-df-quickchart-complete:disabled,\n",
              "  .colab-df-quickchart-complete:disabled:hover {\n",
              "    background-color: var(--disabled-bg-color);\n",
              "    fill: var(--disabled-fill-color);\n",
              "    box-shadow: none;\n",
              "  }\n",
              "\n",
              "  .colab-df-spinner {\n",
              "    border: 2px solid var(--fill-color);\n",
              "    border-color: transparent;\n",
              "    border-bottom-color: var(--fill-color);\n",
              "    animation:\n",
              "      spin 1s steps(1) infinite;\n",
              "  }\n",
              "\n",
              "  @keyframes spin {\n",
              "    0% {\n",
              "      border-color: transparent;\n",
              "      border-bottom-color: var(--fill-color);\n",
              "      border-left-color: var(--fill-color);\n",
              "    }\n",
              "    20% {\n",
              "      border-color: transparent;\n",
              "      border-left-color: var(--fill-color);\n",
              "      border-top-color: var(--fill-color);\n",
              "    }\n",
              "    30% {\n",
              "      border-color: transparent;\n",
              "      border-left-color: var(--fill-color);\n",
              "      border-top-color: var(--fill-color);\n",
              "      border-right-color: var(--fill-color);\n",
              "    }\n",
              "    40% {\n",
              "      border-color: transparent;\n",
              "      border-right-color: var(--fill-color);\n",
              "      border-top-color: var(--fill-color);\n",
              "    }\n",
              "    60% {\n",
              "      border-color: transparent;\n",
              "      border-right-color: var(--fill-color);\n",
              "    }\n",
              "    80% {\n",
              "      border-color: transparent;\n",
              "      border-right-color: var(--fill-color);\n",
              "      border-bottom-color: var(--fill-color);\n",
              "    }\n",
              "    90% {\n",
              "      border-color: transparent;\n",
              "      border-bottom-color: var(--fill-color);\n",
              "    }\n",
              "  }\n",
              "</style>\n",
              "\n",
              "  <script>\n",
              "    async function quickchart(key) {\n",
              "      const quickchartButtonEl =\n",
              "        document.querySelector('#' + key + ' button');\n",
              "      quickchartButtonEl.disabled = true;  // To prevent multiple clicks.\n",
              "      quickchartButtonEl.classList.add('colab-df-spinner');\n",
              "      try {\n",
              "        const charts = await google.colab.kernel.invokeFunction(\n",
              "            'suggestCharts', [key], {});\n",
              "      } catch (error) {\n",
              "        console.error('Error during call to suggestCharts:', error);\n",
              "      }\n",
              "      quickchartButtonEl.classList.remove('colab-df-spinner');\n",
              "      quickchartButtonEl.classList.add('colab-df-quickchart-complete');\n",
              "    }\n",
              "    (() => {\n",
              "      let quickchartButtonEl =\n",
              "        document.querySelector('#df-77d3a722-5cec-4529-af30-4d2e405ff608 button');\n",
              "      quickchartButtonEl.style.display =\n",
              "        google.colab.kernel.accessAllowed ? 'block' : 'none';\n",
              "    })();\n",
              "  </script>\n",
              "</div>\n",
              "\n",
              "    </div>\n",
              "  </div>\n"
            ],
            "application/vnd.google.colaboratory.intrinsic+json": {
              "type": "dataframe",
              "variable_name": "df",
              "summary": "{\n  \"name\": \"df\",\n  \"rows\": 22029,\n  \"fields\": [\n    {\n      \"column\": \"Campaign_ID\",\n      \"properties\": {\n        \"dtype\": \"number\",\n        \"std\": 6359,\n        \"min\": 1,\n        \"max\": 22029,\n        \"num_unique_values\": 22029,\n        \"samples\": [\n          20850,\n          10393,\n          13857\n        ],\n        \"semantic_type\": \"\",\n        \"description\": \"\"\n      }\n    },\n    {\n      \"column\": \"Company\",\n      \"properties\": {\n        \"dtype\": \"category\",\n        \"num_unique_values\": 5,\n        \"samples\": [\n          \"Innovate Industries\",\n          \"Alpha Innovations\",\n          \"NexGen Systems\"\n        ],\n        \"semantic_type\": \"\",\n        \"description\": \"\"\n      }\n    },\n    {\n      \"column\": \"Campaign_Type\",\n      \"properties\": {\n        \"dtype\": \"category\",\n        \"num_unique_values\": 5,\n        \"samples\": [\n          \"Influencer\",\n          \"Search\",\n          \"Social Media\"\n        ],\n        \"semantic_type\": \"\",\n        \"description\": \"\"\n      }\n    },\n    {\n      \"column\": \"Target_Audience\",\n      \"properties\": {\n        \"dtype\": \"category\",\n        \"num_unique_values\": 5,\n        \"samples\": [\n          \"Women 35-44\",\n          \"All Ages\",\n          \"Men 25-34\"\n        ],\n        \"semantic_type\": \"\",\n        \"description\": \"\"\n      }\n    },\n    {\n      \"column\": \"Duration\",\n      \"properties\": {\n        \"dtype\": \"category\",\n        \"num_unique_values\": 4,\n        \"samples\": [\n          \"45 days\",\n          \"60 days\",\n          \"30 days\"\n        ],\n        \"semantic_type\": \"\",\n        \"description\": \"\"\n      }\n    },\n    {\n      \"column\": \"Channel_Used\",\n      \"properties\": {\n        \"dtype\": \"category\",\n        \"num_unique_values\": 6,\n        \"samples\": [\n          \"Facebook\",\n          \"Google Ads\",\n          \"YouTube\"\n        ],\n        \"semantic_type\": \"\",\n        \"description\": \"\"\n      }\n    },\n    {\n      \"column\": \"Conversion_Rate\",\n      \"properties\": {\n        \"dtype\": \"number\",\n        \"std\": 0.9603932084161597,\n        \"min\": 2.015723333,\n        \"max\": 7.469907226,\n        \"num_unique_values\": 21075,\n        \"samples\": [\n          2.513713124,\n          5.769147294,\n          3.637051965\n        ],\n        \"semantic_type\": \"\",\n        \"description\": \"\"\n      }\n    },\n    {\n      \"column\": \"Acquisition_Cost\",\n      \"properties\": {\n        \"dtype\": \"number\",\n        \"std\": 2597,\n        \"min\": 1000,\n        \"max\": 9999,\n        \"num_unique_values\": 8213,\n        \"samples\": [\n          7948,\n          4593,\n          6010\n        ],\n        \"semantic_type\": \"\",\n        \"description\": \"\"\n      }\n    },\n    {\n      \"column\": \"ROI\",\n      \"properties\": {\n        \"dtype\": \"number\",\n        \"std\": 301.61972093896816,\n        \"min\": -98.3,\n        \"max\": 3109.79,\n        \"num_unique_values\": 18190,\n        \"samples\": [\n          -85.39,\n          42.61,\n          13.38\n        ],\n        \"semantic_type\": \"\",\n        \"description\": \"\"\n      }\n    },\n    {\n      \"column\": \"Location\",\n      \"properties\": {\n        \"dtype\": \"category\",\n        \"num_unique_values\": 10,\n        \"samples\": [\n          \"New York\",\n          \"Washington, D.C.\",\n          \"Los Angeles\"\n        ],\n        \"semantic_type\": \"\",\n        \"description\": \"\"\n      }\n    },\n    {\n      \"column\": \"Language\",\n      \"properties\": {\n        \"dtype\": \"category\",\n        \"num_unique_values\": 5,\n        \"samples\": [\n          \"German\",\n          \"French\",\n          \"Spanish\"\n        ],\n        \"semantic_type\": \"\",\n        \"description\": \"\"\n      }\n    },\n    {\n      \"column\": \"Clicks\",\n      \"properties\": {\n        \"dtype\": \"number\",\n        \"std\": 1394,\n        \"min\": 30,\n        \"max\": 6887,\n        \"num_unique_values\": 5280,\n        \"samples\": [\n          726,\n          493,\n          3020\n        ],\n        \"semantic_type\": \"\",\n        \"description\": \"\"\n      }\n    },\n    {\n      \"column\": \"Impressions\",\n      \"properties\": {\n        \"dtype\": \"number\",\n        \"std\": 28542,\n        \"min\": 1001,\n        \"max\": 99999,\n        \"num_unique_values\": 19747,\n        \"samples\": [\n          52983,\n          63154,\n          51073\n        ],\n        \"semantic_type\": \"\",\n        \"description\": \"\"\n      }\n    },\n    {\n      \"column\": \"Engagement_Score\",\n      \"properties\": {\n        \"dtype\": \"number\",\n        \"std\": 1,\n        \"min\": 4,\n        \"max\": 9,\n        \"num_unique_values\": 6,\n        \"samples\": [\n          5,\n          4,\n          9\n        ],\n        \"semantic_type\": \"\",\n        \"description\": \"\"\n      }\n    },\n    {\n      \"column\": \"Customer_Segment\",\n      \"properties\": {\n        \"dtype\": \"category\",\n        \"num_unique_values\": 5,\n        \"samples\": [\n          \"Foodies\",\n          \"Health & Wellness\",\n          \"Fashionistas\"\n        ],\n        \"semantic_type\": \"\",\n        \"description\": \"\"\n      }\n    },\n    {\n      \"column\": \"Date\",\n      \"properties\": {\n        \"dtype\": \"category\",\n        \"num_unique_values\": 365,\n        \"samples\": [\n          \"13-07-2023\",\n          \"03-02-2023\",\n          \"16-01-2023\"\n        ],\n        \"semantic_type\": \"\",\n        \"description\": \"\"\n      }\n    }\n  ]\n}"
            }
          },
          "metadata": {},
          "execution_count": 2
        }
      ]
    },
    {
      "cell_type": "markdown",
      "source": [
        "#2. Descriptive Analysis"
      ],
      "metadata": {
        "id": "DMfUbKWNsKWG"
      }
    },
    {
      "cell_type": "markdown",
      "source": [
        "Basic Structure:"
      ],
      "metadata": {
        "id": "bknFaot90dn3"
      }
    },
    {
      "cell_type": "code",
      "source": [
        "def descriptive_analysis(dataset):\n",
        "    print(\"First few rows of the dataset:\")\n",
        "    print(dataset.head())"
      ],
      "metadata": {
        "id": "5Nb_1O0SsJYD"
      },
      "execution_count": null,
      "outputs": []
    },
    {
      "cell_type": "code",
      "source": [
        "def descriptive_analysis(dataset):\n",
        "    print(\"\\nNumber of rows and columns in the dataset:\")\n",
        "    print(dataset.shape)"
      ],
      "metadata": {
        "id": "w0L-5lEAygUv"
      },
      "execution_count": null,
      "outputs": []
    },
    {
      "cell_type": "code",
      "source": [
        "def descriptive_analysis(dataset):\n",
        "    print(\"\\nConcise summary of the dataset:\")\n",
        "    print(dataset.info())"
      ],
      "metadata": {
        "id": "ssDnXhHey-KA"
      },
      "execution_count": null,
      "outputs": []
    },
    {
      "cell_type": "code",
      "source": [
        "def descriptive_analysis(dataset):\n",
        "    print(\"\\nDescriptive statistics for numerical columns:\")\n",
        "    print(dataset.describe())"
      ],
      "metadata": {
        "id": "WXdMJZHXzGSa"
      },
      "execution_count": null,
      "outputs": []
    },
    {
      "cell_type": "markdown",
      "source": [
        "Data Exploration:"
      ],
      "metadata": {
        "id": "BJHCMSYhxQ5c"
      }
    },
    {
      "cell_type": "code",
      "source": [
        "def data_exploration(dataset):\n",
        "    print(\"Number of unique Campaign_ID values:\")\n",
        "    print(dataset['Campaign_ID'].nunique())"
      ],
      "metadata": {
        "id": "Mi1UTRKxxTcm"
      },
      "execution_count": null,
      "outputs": []
    },
    {
      "cell_type": "code",
      "source": [
        "def data_exploration(dataset):\n",
        "    print(\"\\nUnique values of Location:\")\n",
        "    print(dataset['Location'].unique())\n",
        "    print(\"\\nUnique values of Customer_Segment:\")\n",
        "    print(dataset['Customer_Segment'].unique())"
      ],
      "metadata": {
        "id": "lj4IplvJzu1R"
      },
      "execution_count": null,
      "outputs": []
    },
    {
      "cell_type": "code",
      "source": [
        "def data_exploration(dataset):\n",
        "    print(\"\\nOccurrences of each category in Campaign_Type:\")\n",
        "    print(dataset['Campaign_Type'].value_counts())\n",
        "    print(\"\\nOccurrences of each category in Channel_Used:\")\n",
        "    print(dataset['Channel_Used'].value_counts())"
      ],
      "metadata": {
        "id": "6kQc9ip40PZX"
      },
      "execution_count": null,
      "outputs": []
    },
    {
      "cell_type": "markdown",
      "source": [
        "#3) Exploratory Data Analysis (EDA) and Visualization"
      ],
      "metadata": {
        "id": "Ywl3yGZ00kBZ"
      }
    },
    {
      "cell_type": "code",
      "source": [
        "def eda_and_visualization(dataset):\n",
        "    plt.figure(figsize=(10, 6))\n",
        "    sns.scatterplot(x='Acquisition_Cost', y='ROI', data=dataset)\n",
        "    plt.title('Relationship between Acquisition_Cost and ROI')\n",
        "    plt.show()"
      ],
      "metadata": {
        "id": "gTsWy1YZ1ce9"
      },
      "execution_count": null,
      "outputs": []
    },
    {
      "cell_type": "code",
      "source": [
        "def eda_and_visualization(dataset):\n",
        "    plt.figure(figsize=(10, 6))\n",
        "    sns.barplot(x='Channel_Used', y='Conversion_Rate', hue='Campaign_Type', data=dataset)\n",
        "    plt.title('Average Conversion Rate by Channel and Campaign Type')\n",
        "    plt.show()"
      ],
      "metadata": {
        "id": "x_yDCFsNYubM"
      },
      "execution_count": null,
      "outputs": []
    },
    {
      "cell_type": "code",
      "source": [
        "def eda_and_visualization(dataset):\n",
        "    plt.figure(figsize=(10, 6))\n",
        "    sns.boxplot(x='Campaign_Type', y='Engagement_Score', data=dataset)\n",
        "    plt.title('Distribution of Engagement Score by Campaign Type')\n",
        "    plt.show()"
      ],
      "metadata": {
        "id": "Q_6aNVRsZLj1"
      },
      "execution_count": null,
      "outputs": []
    },
    {
      "cell_type": "code",
      "source": [
        "def eda_and_visualization(dataset):\n",
        "       # Campaign Performance\n",
        "    plt.figure(figsize=(10, 6))\n",
        "    sns.scatterplot(x='Acquisition_Cost', y='ROI', data=dataset)\n",
        "    plt.title('Relationship between Acquisition Cost and ROI')\n",
        "    plt.show()\n",
        "\n",
        "    plt.figure(figsize=(10, 6))\n",
        "    sns.barplot(x='Channel_Used', y='Conversion_Rate', hue='Campaign_Type', data=dataset)\n",
        "    plt.title('Average Conversion Rate by Channel and Campaign Type')\n",
        "    plt.show()\n",
        "\n",
        "    plt.figure(figsize=(10, 6))\n",
        "    sns.boxplot(x='Campaign_Type', y='Engagement_Score', data=dataset)\n",
        "    plt.title('Distribution of Engagement Score by Campaign Type')\n",
        "    plt.show()\n",
        "\n",
        "    plt.figure(figsize=(10, 6))\n",
        "    sns.barplot(x='Company', y='ROI', data=dataset)\n",
        "    plt.title('Average ROI by Company')\n",
        "    plt.show()\n",
        "\n",
        "    plt.figure(figsize=(10, 6))\n",
        "    sns.heatmap(dataset[['Engagement_Score', 'Conversion_Rate']].corr(), annot=True, cmap='coolwarm')\n",
        "    plt.title('Correlation between Engagement Score and Conversion Rate')\n",
        "    plt.show()"
      ],
      "metadata": {
        "id": "8mpzoG4EZTds"
      },
      "execution_count": null,
      "outputs": []
    },
    {
      "cell_type": "code",
      "source": [
        "def eda_and_visualization(dataset):\n",
        "      # Customer Segmentation\n",
        "    plt.figure(figsize=(10, 6))\n",
        "    sns.countplot(x='Target_Audience', data=dataset)\n",
        "    plt.title('Distribution of Target Audience')\n",
        "    plt.show()\n",
        "\n",
        "    plt.figure(figsize=(10, 6))\n",
        "    sns.barplot(x='Customer_Segment', y='Conversion_Rate', hue='Language', data=dataset)\n",
        "    plt.title('Conversion Rate by Customer Segment and Language')\n",
        "    plt.show()\n",
        "\n",
        "    plt.figure(figsize=(10, 6))\n",
        "    sns.boxplot(x='Customer_Segment', y='Acquisition_Cost', hue='Channel_Used', data=dataset)\n",
        "    plt.title('Distribution of Acquisition Cost by Customer Segment and Channel')\n",
        "    plt.show()\n",
        "\n",
        "    plt.figure(figsize=(10, 6))\n",
        "    sns.barplot(x='Language', y='Conversion_Rate', data=dataset)\n",
        "    plt.title('Average Conversion Rate by Language')\n",
        "    plt.show()"
      ],
      "metadata": {
        "id": "6RwU-C5TZ9EZ"
      },
      "execution_count": null,
      "outputs": []
    },
    {
      "cell_type": "code",
      "source": [
        "def eda_and_visualization(dataset):\n",
        "      # Channel Effectiveness\n",
        "    plt.figure(figsize=(10, 6))\n",
        "    sns.barplot(x='Channel_Used', y='Engagement_Score', hue='Campaign_Type', data=dataset)\n",
        "    plt.title('Engagement Score by Channel and Campaign Type')\n",
        "    plt.show()\n",
        "\n",
        "    plt.figure(figsize=(10, 6))\n",
        "    sns.pieplot(x='Channel_Used', y='ROI', data=dataset, autopct='%1.1f%%')\n",
        "    plt.title('Distribution of ROI by Channel')\n",
        "    plt.show()\n",
        "\n",
        "    plt.figure(figsize=(10, 6))\n",
        "    sns.scatterplot(x='Clicks', y='Impressions', hue='Channel_Used', data=dataset)\n",
        "    plt.title('Relationship between Clicks and Impressions by Channel')\n",
        "    plt.show()"
      ],
      "metadata": {
        "id": "WdSjdHY8aL3c"
      },
      "execution_count": null,
      "outputs": []
    },
    {
      "cell_type": "code",
      "source": [
        "def eda_and_visualization(dataset):\n",
        "    # Time-Based Analysis\n",
        "    plt.figure(figsize=(10, 6))\n",
        "    sns.histplot(x='Duration', data=dataset, bins=10)\n",
        "    plt.title('Distribution of Duration')\n",
        "    plt.show()\n",
        "\n",
        "    plt.figure(figsize=(10, 6))\n",
        "    sns.lineplot(x='Date', y='Conversion_Rate', hue='Company', data=dataset)\n",
        "    plt.title('Conversion Rate over Time by Company')\n",
        "    plt.show()\n",
        "\n",
        "    plt.figure(figsize=(10, 6))\n",
        "    sns.lineplot(x='Date', y='Engagement_Score', data=dataset)\n",
        "    plt.title('Engagement Score over Time')\n",
        "    plt.show()"
      ],
      "metadata": {
        "id": "Qbu08svRafg7"
      },
      "execution_count": null,
      "outputs": []
    },
    {
      "cell_type": "code",
      "source": [
        "def eda_and_visualization(dataset):\n",
        "    # Geographic Analysis\n",
        "    plt.figure(figsize=(10, 6))\n",
        "    sns.barplot(x='Location', y='Acquisition_Cost', data=dataset)\n",
        "    plt.title('Acquisition Cost by Location')\n",
        "    plt.show()"
      ],
      "metadata": {
        "id": "tfbNlMuUbKTV"
      },
      "execution_count": null,
      "outputs": []
    }
  ]
}